{
 "nbformat": 4,
 "nbformat_minor": 0,
 "metadata": {
  "colab": {
   "provenance": []
  },
  "kernelspec": {
   "name": "python3",
   "display_name": "Python 3 (ipykernel)",
   "language": "python"
  },
  "language_info": {
   "name": "python"
  }
 },
 "cells": [
  {
   "cell_type": "code",
   "metadata": {
    "id": "a-JlRM5IxHZY",
    "ExecuteTime": {
     "end_time": "2025-09-17T05:33:00.322544Z",
     "start_time": "2025-09-17T05:33:00.319804Z"
    }
   },
   "source": [
    "import os\n",
    "from Crypto.Cipher import AES\n",
    "from Crypto import Random\n",
    "from Crypto.Hash import SHA256\n",
    "from Crypto.Util.Padding import pad"
   ],
   "outputs": [],
   "execution_count": 88
  },
  {
   "metadata": {},
   "cell_type": "markdown",
   "source": "## Bit FLipper"
  },
  {
   "metadata": {
    "ExecuteTime": {
     "end_time": "2025-09-17T05:33:00.375861Z",
     "start_time": "2025-09-17T05:33:00.370945Z"
    }
   },
   "cell_type": "code",
   "source": [
    "def bit_flipper(file_input, file_output):\n",
    "    with open (file_input, \"rb\") as f :\n",
    "        data = bytearray(f.read())\n",
    "        data [50] ^= 0x01\n",
    "\n",
    "    # cambia un bit dentro de C_3 ( ciphertext )\n",
    "    with open (file_output, \"wb\") as f :\n",
    "        f.write(data)"
   ],
   "outputs": [],
   "execution_count": 89
  },
  {
   "metadata": {},
   "cell_type": "markdown",
   "source": "## Block Swaper"
  },
  {
   "metadata": {
    "ExecuteTime": {
     "end_time": "2025-09-17T05:33:00.425202Z",
     "start_time": "2025-09-17T05:33:00.421473Z"
    }
   },
   "cell_type": "code",
   "source": [
    "def swap_blocks(input_file, output_file, block_size=16, i=2, j=3):\n",
    "    \"\"\"\n",
    "    Intercambia los bloques Ci y Cj de un archivo cifrado en formato:\n",
    "    C0 || C1 || C2 ... Cn\n",
    "    block_size normalmente = 16 (AES).\n",
    "    \"\"\"\n",
    "\n",
    "    with open(input_file, \"rb\") as f:\n",
    "        data = bytearray(f.read())\n",
    "\n",
    "    #print(data)\n",
    "    # Calcular offset en bytes de cada bloque\n",
    "    start_i, end_i = i * block_size, (i+1) * block_size\n",
    "    start_j, end_j = j * block_size, (j+1) * block_size\n",
    "\n",
    "    # Intercambiar bloques\n",
    "    block_i = data[start_i:end_i]\n",
    "    block_j = data[start_j:end_j]\n",
    "    data[start_i:end_i], data[start_j:end_j] = block_j, block_i\n",
    "\n",
    "    with open(output_file, \"wb\") as f:\n",
    "        f.write(data)\n",
    "\n",
    "    print(f\"Intercambiados C{i} y C{j} en {input_file}, guardado en {output_file}\")\n"
   ],
   "outputs": [],
   "execution_count": 90
  },
  {
   "metadata": {},
   "cell_type": "markdown",
   "source": "## Key Generator"
  },
  {
   "metadata": {
    "ExecuteTime": {
     "end_time": "2025-09-17T05:33:00.476866Z",
     "start_time": "2025-09-17T05:33:00.472423Z"
    }
   },
   "cell_type": "code",
   "source": [
    "# Función para generar una clave a partir de una contraseña usando SHA256\n",
    "def getKey(password):\n",
    "        # Crear un objeto hash SHA256\n",
    "        hasher = SHA256.new(password.encode('utf-8'))\n",
    "        # Devolver el resumen del hash (la clave)\n",
    "        return hasher.digest()"
   ],
   "outputs": [],
   "execution_count": 91
  },
  {
   "metadata": {},
   "cell_type": "markdown",
   "source": "## Comparador de files"
  },
  {
   "metadata": {
    "ExecuteTime": {
     "end_time": "2025-09-17T05:33:00.533204Z",
     "start_time": "2025-09-17T05:33:00.526287Z"
    }
   },
   "cell_type": "code",
   "source": [
    "def compare_files_per_byte(file1, file2, block_size=16, max_diffs=64):\n",
    "    \"\"\"\n",
    "    Compara dos archivos byte por byte y muestra diferencias.\n",
    "    Agrupa por bloques para ver qué zonas se dañaron.\n",
    "    \"\"\"\n",
    "    with open(file1, \"rb\") as f:\n",
    "        data1 = f.read()\n",
    "    with open(file2, \"rb\") as f:\n",
    "        data2 = f.read()\n",
    "\n",
    "    for i, (b1, b2) in enumerate(zip(data1, data2)):\n",
    "        if b1 != b2:\n",
    "            block_index = i // block_size\n",
    "            print(f\"Diferencia en byte {i} (bloque {block_index}): {b1} != {b2}\")\n",
    "            max_diffs -= 1\n",
    "            if max_diffs == 0:\n",
    "                print(\"...más diferencias ocultas...\")\n",
    "                break\n",
    "\n"
   ],
   "outputs": [],
   "execution_count": 92
  },
  {
   "metadata": {
    "ExecuteTime": {
     "end_time": "2025-09-17T05:33:00.580540Z",
     "start_time": "2025-09-17T05:33:00.577774Z"
    }
   },
   "cell_type": "code",
   "source": [
    "def compare_files_per_block(file1, file2, block_size=16):\n",
    "    \"\"\"\n",
    "    Compara dos archivos y reporta únicamente los bloques que están corrompidos.\n",
    "    \"\"\"\n",
    "    with open(file1, \"rb\") as f:\n",
    "        data1 = f.read()\n",
    "    with open(file2, \"rb\") as f:\n",
    "        data2 = f.read()\n",
    "\n",
    "\n",
    "\n",
    "    corrupted_blocks = set()\n",
    "\n",
    "    # Comparar byte por byte y registrar bloques corrompidos\n",
    "    for i in range(min(len(data1), len(data2))):\n",
    "        if data1[i] != data2[i]:\n",
    "            block_index = i // block_size + 1\n",
    "            corrupted_blocks.add(block_index)\n",
    "\n",
    "    # Mostrar resultados\n",
    "    if corrupted_blocks:\n",
    "        sorted_blocks = sorted(corrupted_blocks)\n",
    "        print(f\"Bloques corrompidos: {sorted_blocks}\")\n",
    "        print(f\"Total de bloques afectados: {len(corrupted_blocks)}\")\n",
    "    else:\n",
    "        print(\"Los archivos son idénticos - no hay bloques corrompidos\")"
   ],
   "outputs": [],
   "execution_count": 93
  },
  {
   "metadata": {},
   "cell_type": "markdown",
   "source": "# **Funciones de Encriptado y Desencriptado**"
  },
  {
   "metadata": {
    "ExecuteTime": {
     "end_time": "2025-09-17T05:33:00.632267Z",
     "start_time": "2025-09-17T05:33:00.627453Z"
    }
   },
   "cell_type": "code",
   "source": [
    "def encrypt(mode, key, filename):\n",
    "        # Tamaño del chunk para leer el archivo\n",
    "        chunksize = 64*1024\n",
    "        # Nombre del archivo de salida cifrado\n",
    "        outputFile = filename+\".enc\"\n",
    "        # Obtener el tamaño del archivo original y rellenar con ceros a la izquierda para que tenga 16 bytes\n",
    "        filesize = str(os.path.getsize(filename)).zfill(16)\n",
    "        # Generar un vector de inicialización (IV) aleatorio de 16 bytes\n",
    "\n",
    "        # Crear un objeto descifrador AES en modo CBCvsECB (Cipher Block Chaining)\n",
    "        if mode == \"ECB\":\n",
    "            encryptor= AES.new(key, AES.MODE_ECB)\n",
    "        elif mode == \"CBC\":\n",
    "            IV = Random.new().read(16)\n",
    "            encryptor= AES.new(key, AES.MODE_CBC, IV)\n",
    "        else:\n",
    "            print(\"Error de mode\")\n",
    "            return\n",
    "\n",
    "        # Abrir el archivo de entrada en modo binario de lectura ('rb')\n",
    "        with open(filename, 'rb') as infile:\n",
    "                # Abrir el archivo de salida en modo binario de escritura ('wb')\n",
    "                with open(outputFile, 'wb') as outfile:\n",
    "                        # Escribir el tamaño del archivo original codificado en utf-8\n",
    "                        outfile.write(filesize.encode('utf-8'))\n",
    "\n",
    "\n",
    "                        # Escribir el vector de inicialización (IV)\n",
    "                        if mode == \"CBC\":\n",
    "                            outfile.write(IV)\n",
    "\n",
    "\n",
    "                        # Leer el archivo en chunks\n",
    "                        while True:\n",
    "                                chunk = infile.read(chunksize)\n",
    "\n",
    "                                # Si no hay más chunks, salir del bucle\n",
    "                                if len(chunk) == 0:\n",
    "                                        break\n",
    "                                # Si el tamaño del chunk no es múltiplo de 16, rellenar con bytes nulos\n",
    "                                elif len(chunk)%16 != 0:\n",
    "                                        chunk=pad(chunk, 16)\n",
    "\n",
    "                                # Cifrar el chunk y escribirlo en el archivo de salida\n",
    "                                outfile.write(encryptor.encrypt(chunk))\n",
    "\n",
    "# Función para descifrar un archivo\n",
    "def decrypt(mode, key, filename):\n",
    "        # Tamaño del chunk para leer el archivo\n",
    "        chunksize = 64*1024\n",
    "        # ruta del archivo de salida descifrado (eliminar la extensión .enc)\n",
    "        outputFile = filename[:-4]\n",
    "\n",
    "        # Abrir el archivo de entrada cifrado en modo binario de lectura ('rb')\n",
    "        with open(filename, 'rb') as infile:\n",
    "                # Leer el tamaño del archivo original (los primeros 16 bytes) y convertirlo a entero\n",
    "                filesize = int(infile.read(16))\n",
    "\n",
    "                # Crear un objeto descifrador AES en modo CBCvsECB (Cipher Block Chaining)\n",
    "                if mode == \"ECB\":\n",
    "                    decryptor= AES.new(key, AES.MODE_ECB)\n",
    "                elif mode == \"CBC\":\n",
    "                    IV = infile.read(16)\n",
    "                    decryptor= AES.new(key, AES.MODE_CBC, IV)\n",
    "                else:\n",
    "                    print(\"Error de mode\")\n",
    "                    return\n",
    "\n",
    "                # Abrir el archivo de salida en modo binario de escritura ('wb')\n",
    "                with open(outputFile, 'wb') as outfile:\n",
    "                        # Leer el archivo en chunks\n",
    "                        while True:\n",
    "                                chunk = infile.read(chunksize)\n",
    "\n",
    "                                # Si no hay más chunks, salir del bucle\n",
    "                                if len(chunk) == 0:\n",
    "                                        break\n",
    "\n",
    "                                # Descifrar el chunk y escribirlo en el archivo de salida\n",
    "                                outfile.write(decryptor.decrypt(chunk))\n",
    "\n",
    "                        # Truncar el archivo de salida al tamaño original\n",
    "                        outfile.truncate(filesize)"
   ],
   "outputs": [],
   "execution_count": 94
  },
  {
   "metadata": {},
   "cell_type": "markdown",
   "source": "## Parte 3 - Intercambio de Bloques"
  },
  {
   "metadata": {
    "ExecuteTime": {
     "end_time": "2025-09-17T05:33:00.693735Z",
     "start_time": "2025-09-17T05:33:00.681670Z"
    }
   },
   "cell_type": "code",
   "source": [
    "encrypt(\"CBC\", getKey(\"1234\"), \"test.pdf\")\n",
    "swap_blocks(\"test.pdf.enc\", \"Resultados/CBC - Block Swap/test_swap.pdf.enc\", 16, 3, 5)\n",
    "decrypt(\"CBC\", getKey(\"1234\"), \"Resultados/CBC - Block Swap/test_swap.pdf.enc\")\n",
    "compare_files_per_byte(\"test.pdf\", \"Resultados/CBC - Block Swap/test_swap.pdf\")\n",
    "print(\"=====================================================================================================================\")\n",
    "compare_files_per_block(\"test.pdf\", \"Resultados/CBC - Block Swap/test_swap.pdf\")"
   ],
   "outputs": [
    {
     "name": "stdout",
     "output_type": "stream",
     "text": [
      "Intercambiados C3 y C5 en test.pdf.enc, guardado en Resultados/CBC - Block Swap/test_swap.pdf.enc\n",
      "Diferencia en byte 16 (bloque 1): 32 != 83\n",
      "Diferencia en byte 17 (bloque 1): 48 != 29\n",
      "Diferencia en byte 18 (bloque 1): 32 != 201\n",
      "Diferencia en byte 19 (bloque 1): 111 != 17\n",
      "Diferencia en byte 20 (bloque 1): 98 != 219\n",
      "Diferencia en byte 21 (bloque 1): 106 != 96\n",
      "Diferencia en byte 22 (bloque 1): 10 != 137\n",
      "Diferencia en byte 23 (bloque 1): 60 != 18\n",
      "Diferencia en byte 24 (bloque 1): 60 != 132\n",
      "Diferencia en byte 25 (bloque 1): 10 != 174\n",
      "Diferencia en byte 26 (bloque 1): 47 != 1\n",
      "Diferencia en byte 27 (bloque 1): 76 != 94\n",
      "Diferencia en byte 28 (bloque 1): 101 != 122\n",
      "Diferencia en byte 29 (bloque 1): 110 != 2\n",
      "Diferencia en byte 30 (bloque 1): 103 != 151\n",
      "Diferencia en byte 31 (bloque 1): 116 != 36\n",
      "Diferencia en byte 32 (bloque 2): 104 != 14\n",
      "Diferencia en byte 33 (bloque 2): 32 != 249\n",
      "Diferencia en byte 34 (bloque 2): 49 != 42\n",
      "Diferencia en byte 35 (bloque 2): 48 != 46\n",
      "Diferencia en byte 36 (bloque 2): 49 != 250\n",
      "Diferencia en byte 37 (bloque 2): 51 != 223\n",
      "Diferencia en byte 38 (bloque 2): 32 != 9\n",
      "Diferencia en byte 40 (bloque 2): 32 != 197\n",
      "Diferencia en byte 41 (bloque 2): 32 != 242\n",
      "Diferencia en byte 42 (bloque 2): 32 != 196\n",
      "Diferencia en byte 43 (bloque 2): 32 != 163\n",
      "Diferencia en byte 44 (bloque 2): 10 != 37\n",
      "Diferencia en byte 45 (bloque 2): 47 != 131\n",
      "Diferencia en byte 46 (bloque 2): 70 != 94\n",
      "Diferencia en byte 47 (bloque 2): 105 != 74\n",
      "Diferencia en byte 48 (bloque 3): 108 != 31\n",
      "Diferencia en byte 49 (bloque 3): 116 != 89\n",
      "Diferencia en byte 50 (bloque 3): 101 != 140\n",
      "Diferencia en byte 51 (bloque 3): 114 != 12\n",
      "Diferencia en byte 52 (bloque 3): 32 != 153\n",
      "Diferencia en byte 53 (bloque 3): 47 != 37\n",
      "Diferencia en byte 54 (bloque 3): 70 != 197\n",
      "Diferencia en byte 55 (bloque 3): 108 != 66\n",
      "Diferencia en byte 56 (bloque 3): 97 != 217\n",
      "Diferencia en byte 57 (bloque 3): 116 != 208\n",
      "Diferencia en byte 58 (bloque 3): 101 != 75\n",
      "Diferencia en byte 59 (bloque 3): 68 != 86\n",
      "Diferencia en byte 60 (bloque 3): 101 != 122\n",
      "Diferencia en byte 61 (bloque 3): 99 != 15\n",
      "Diferencia en byte 62 (bloque 3): 111 != 159\n",
      "Diferencia en byte 63 (bloque 3): 100 != 52\n",
      "Diferencia en byte 64 (bloque 4): 101 != 3\n",
      "Diferencia en byte 65 (bloque 4): 10 != 211\n",
      "Diferencia en byte 66 (bloque 4): 62 != 37\n",
      "Diferencia en byte 67 (bloque 4): 62 != 32\n",
      "Diferencia en byte 68 (bloque 4): 10 != 193\n",
      "Diferencia en byte 69 (bloque 4): 115 != 159\n",
      "Diferencia en byte 70 (bloque 4): 116 != 93\n",
      "Diferencia en byte 72 (bloque 4): 101 != 128\n",
      "Diferencia en byte 73 (bloque 4): 97 != 179\n",
      "Diferencia en byte 74 (bloque 4): 109 != 137\n",
      "Diferencia en byte 75 (bloque 4): 10 != 137\n",
      "Diferencia en byte 76 (bloque 4): 120 != 87\n",
      "Diferencia en byte 77 (bloque 4): 218 != 118\n",
      "Diferencia en byte 78 (bloque 4): 189 != 165\n",
      "Diferencia en byte 79 (bloque 4): 87 != 116\n",
      "=====================================================================================================================\n",
      "Bloques corrompidos: [2, 3, 4, 5]\n",
      "Total de bloques afectados: 4\n"
     ]
    }
   ],
   "execution_count": 95
  },
  {
   "metadata": {},
   "cell_type": "markdown",
   "source": "## Pruebas en ECB"
  },
  {
   "metadata": {},
   "cell_type": "markdown",
   "source": "### Bit FLipping (ECB)"
  },
  {
   "metadata": {
    "ExecuteTime": {
     "end_time": "2025-09-17T05:33:00.742282Z",
     "start_time": "2025-09-17T05:33:00.729820Z"
    }
   },
   "cell_type": "code",
   "source": [
    "encrypt(\"ECB\", getKey(\"1234\"), \"test.pdf\")\n",
    "bit_flipper(\"test.pdf.enc\", \"Resultados/ECB - Bit flip/test_flip.pdf.enc\")\n",
    "decrypt(\"ECB\", getKey(\"1234\"), \"Resultados/ECB - Bit flip/test_flip.pdf.enc\")\n",
    "\n",
    "compare_files_per_byte(\"test.pdf\", \"Resultados/ECB - Bit flip/test_flip.pdf\")\n",
    "print(\"=====================================================================================================================\")\n",
    "compare_files_per_block(\"test.pdf\", \"Resultados/ECB - Bit flip/test_flip.pdf\")"
   ],
   "outputs": [
    {
     "name": "stdout",
     "output_type": "stream",
     "text": [
      "Diferencia en byte 32 (bloque 2): 104 != 168\n",
      "Diferencia en byte 33 (bloque 2): 32 != 103\n",
      "Diferencia en byte 34 (bloque 2): 49 != 8\n",
      "Diferencia en byte 35 (bloque 2): 48 != 55\n",
      "Diferencia en byte 36 (bloque 2): 49 != 143\n",
      "Diferencia en byte 37 (bloque 2): 51 != 0\n",
      "Diferencia en byte 38 (bloque 2): 32 != 112\n",
      "Diferencia en byte 39 (bloque 2): 32 != 5\n",
      "Diferencia en byte 40 (bloque 2): 32 != 90\n",
      "Diferencia en byte 41 (bloque 2): 32 != 95\n",
      "Diferencia en byte 42 (bloque 2): 32 != 30\n",
      "Diferencia en byte 43 (bloque 2): 32 != 235\n",
      "Diferencia en byte 44 (bloque 2): 10 != 188\n",
      "Diferencia en byte 45 (bloque 2): 47 != 154\n",
      "Diferencia en byte 46 (bloque 2): 70 != 114\n",
      "Diferencia en byte 47 (bloque 2): 105 != 100\n",
      "=====================================================================================================================\n",
      "Bloques corrompidos: [3]\n",
      "Total de bloques afectados: 1\n"
     ]
    }
   ],
   "execution_count": 96
  },
  {
   "metadata": {},
   "cell_type": "markdown",
   "source": "### Code swapping (ECB)"
  },
  {
   "metadata": {
    "ExecuteTime": {
     "end_time": "2025-09-17T05:33:00.788633Z",
     "start_time": "2025-09-17T05:33:00.775553Z"
    }
   },
   "cell_type": "code",
   "source": [
    "encrypt(\"ECB\", getKey(\"1234\"), \"test.pdf\")\n",
    "swap_blocks(\"test.pdf.enc\", \"Resultados/ECB - Block Swap/test_swap.pdf.enc\", 16, 3, 5)\n",
    "decrypt(\"ECB\", getKey(\"1234\"), \"Resultados/ECB - Block Swap/test_swap.pdf.enc\")\n",
    "compare_files_per_byte(\"test.pdf\", \"Resultados/ECB - Block Swap/test_swap.pdf\")\n",
    "print(\"=====================================================================================================================\")\n",
    "compare_files_per_block(\"test.pdf\", \"Resultados/ECB - Block Swap/test_swap.pdf\")"
   ],
   "outputs": [
    {
     "name": "stdout",
     "output_type": "stream",
     "text": [
      "Intercambiados C3 y C5 en test.pdf.enc, guardado en Resultados/ECB - Block Swap/test_swap.pdf.enc\n",
      "Diferencia en byte 32 (bloque 2): 104 != 101\n",
      "Diferencia en byte 33 (bloque 2): 32 != 10\n",
      "Diferencia en byte 34 (bloque 2): 49 != 62\n",
      "Diferencia en byte 35 (bloque 2): 48 != 62\n",
      "Diferencia en byte 36 (bloque 2): 49 != 10\n",
      "Diferencia en byte 37 (bloque 2): 51 != 115\n",
      "Diferencia en byte 38 (bloque 2): 32 != 116\n",
      "Diferencia en byte 39 (bloque 2): 32 != 114\n",
      "Diferencia en byte 40 (bloque 2): 32 != 101\n",
      "Diferencia en byte 41 (bloque 2): 32 != 97\n",
      "Diferencia en byte 42 (bloque 2): 32 != 109\n",
      "Diferencia en byte 43 (bloque 2): 32 != 10\n",
      "Diferencia en byte 44 (bloque 2): 10 != 120\n",
      "Diferencia en byte 45 (bloque 2): 47 != 218\n",
      "Diferencia en byte 46 (bloque 2): 70 != 189\n",
      "Diferencia en byte 47 (bloque 2): 105 != 87\n",
      "Diferencia en byte 64 (bloque 4): 101 != 104\n",
      "Diferencia en byte 65 (bloque 4): 10 != 32\n",
      "Diferencia en byte 66 (bloque 4): 62 != 49\n",
      "Diferencia en byte 67 (bloque 4): 62 != 48\n",
      "Diferencia en byte 68 (bloque 4): 10 != 49\n",
      "Diferencia en byte 69 (bloque 4): 115 != 51\n",
      "Diferencia en byte 70 (bloque 4): 116 != 32\n",
      "Diferencia en byte 71 (bloque 4): 114 != 32\n",
      "Diferencia en byte 72 (bloque 4): 101 != 32\n",
      "Diferencia en byte 73 (bloque 4): 97 != 32\n",
      "Diferencia en byte 74 (bloque 4): 109 != 32\n",
      "Diferencia en byte 75 (bloque 4): 10 != 32\n",
      "Diferencia en byte 76 (bloque 4): 120 != 10\n",
      "Diferencia en byte 77 (bloque 4): 218 != 47\n",
      "Diferencia en byte 78 (bloque 4): 189 != 70\n",
      "Diferencia en byte 79 (bloque 4): 87 != 105\n",
      "=====================================================================================================================\n",
      "Bloques corrompidos: [3, 5]\n",
      "Total de bloques afectados: 2\n"
     ]
    }
   ],
   "execution_count": 97
  }
 ]
}
