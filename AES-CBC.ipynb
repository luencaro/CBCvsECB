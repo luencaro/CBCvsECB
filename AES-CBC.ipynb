{
 "cells": [
  {
   "cell_type": "markdown",
   "metadata": {},
   "source": [
    "# **Laboratorio: Explorando la maleabilidad en AES-CBC**\n",
    "\n",
    "## **Importación de Paquetes y Librerías**"
   ]
  },
  {
   "cell_type": "code",
   "execution_count": 2,
   "metadata": {
    "ExecuteTime": {
     "end_time": "2025-09-17T05:33:00.322544Z",
     "start_time": "2025-09-17T05:33:00.319804Z"
    },
    "id": "a-JlRM5IxHZY"
   },
   "outputs": [],
   "source": [
    "import os\n",
    "from Crypto.Cipher import AES\n",
    "from Crypto import Random\n",
    "from Crypto.Hash import SHA256\n",
    "from Crypto.Util.Padding import pad"
   ]
  },
  {
   "cell_type": "markdown",
   "metadata": {},
   "source": [
    "## **Funciones Auxialiares**\n",
    "\n",
    "### **Funciones de Cifrado y Descifrado**"
   ]
  },
  {
   "cell_type": "code",
   "execution_count": 14,
   "metadata": {
    "ExecuteTime": {
     "end_time": "2025-09-17T05:33:00.632267Z",
     "start_time": "2025-09-17T05:33:00.627453Z"
    }
   },
   "outputs": [],
   "source": [
    "def encrypt(mode, key, filename):\n",
    "        # Tamaño del chunk para leer el archivo\n",
    "        chunksize = 64*1024\n",
    "        # Nombre del archivo de salida cifrado\n",
    "        outputFile = filename+\".enc\"\n",
    "        # Obtener el tamaño del archivo original y rellenar con ceros a la izquierda para que tenga 16 bytes\n",
    "        filesize = str(os.path.getsize(filename)).zfill(16)\n",
    "        # Generar un vector de inicialización (IV) aleatorio de 16 bytes\n",
    "\n",
    "        # Crear un objeto descifrador AES en modo CBCvsECB (Cipher Block Chaining)\n",
    "        if mode == \"ECB\":\n",
    "            encryptor= AES.new(key, AES.MODE_ECB)\n",
    "        elif mode == \"CBC\":\n",
    "            IV = Random.new().read(16)\n",
    "            encryptor= AES.new(key, AES.MODE_CBC, IV)\n",
    "        else:\n",
    "            print(\"Error de mode\")\n",
    "            return\n",
    "\n",
    "        # Abrir el archivo de entrada en modo binario de lectura ('rb')\n",
    "        with open(filename, 'rb') as infile:\n",
    "                # Abrir el archivo de salida en modo binario de escritura ('wb')\n",
    "                with open(outputFile, 'wb') as outfile:\n",
    "                        # Escribir el tamaño del archivo original codificado en utf-8\n",
    "                        outfile.write(filesize.encode('utf-8'))\n",
    "\n",
    "\n",
    "                        # Escribir el vector de inicialización (IV)\n",
    "                        if mode == \"CBC\":\n",
    "                            outfile.write(IV)\n",
    "\n",
    "\n",
    "                        # Leer el archivo en chunks\n",
    "                        while True:\n",
    "                                chunk = infile.read(chunksize)\n",
    "\n",
    "                                # Si no hay más chunks, salir del bucle\n",
    "                                if len(chunk) == 0:\n",
    "                                        break\n",
    "                                # Si el tamaño del chunk no es múltiplo de 16, rellenar con bytes nulos\n",
    "                                elif len(chunk)%16 != 0:\n",
    "                                        chunk=pad(chunk, 16)\n",
    "\n",
    "                                # Cifrar el chunk y escribirlo en el archivo de salida\n",
    "                                outfile.write(encryptor.encrypt(chunk))\n",
    "\n",
    "# Función para descifrar un archivo\n",
    "def decrypt(mode, key, filename, output_filename=None):\n",
    "        # Tamaño del chunk para leer el archivo\n",
    "        chunksize = 64*1024\n",
    "        # ruta del archivo de salida descifrado (eliminar la extensión .enc)\n",
    "        outputFile = filename[:-4] if output_filename is None else output_filename\n",
    "\n",
    "        # Abrir el archivo de entrada cifrado en modo binario de lectura ('rb')\n",
    "        with open(filename, 'rb') as infile:\n",
    "                # Leer el tamaño del archivo original (los primeros 16 bytes) y convertirlo a entero\n",
    "                filesize = int(infile.read(16))\n",
    "\n",
    "                # Crear un objeto descifrador AES en modo CBCvsECB (Cipher Block Chaining)\n",
    "                if mode == \"ECB\":\n",
    "                    decryptor= AES.new(key, AES.MODE_ECB)\n",
    "                elif mode == \"CBC\":\n",
    "                    IV = infile.read(16)\n",
    "                    decryptor= AES.new(key, AES.MODE_CBC, IV)\n",
    "                else:\n",
    "                    print(\"Error de mode\")\n",
    "                    return\n",
    "\n",
    "                # Abrir el archivo de salida en modo binario de escritura ('wb')\n",
    "                with open(outputFile, 'wb') as outfile:\n",
    "                        # Leer el archivo en chunks\n",
    "                        while True:\n",
    "                                chunk = infile.read(chunksize)\n",
    "\n",
    "                                # Si no hay más chunks, salir del bucle\n",
    "                                if len(chunk) == 0:\n",
    "                                        break\n",
    "\n",
    "                                # Descifrar el chunk y escribirlo en el archivo de salida\n",
    "                                outfile.write(decryptor.decrypt(chunk))\n",
    "\n",
    "                        # Truncar el archivo de salida al tamaño original\n",
    "                        outfile.truncate(filesize)"
   ]
  },
  {
   "cell_type": "markdown",
   "metadata": {},
   "source": [
    "### **Funciones Comparadoras de Archivos**\n",
    "#### **Comparador de Archivos por Bloques**"
   ]
  },
  {
   "cell_type": "code",
   "execution_count": 4,
   "metadata": {},
   "outputs": [],
   "source": [
    "def compare_files_per_block(file1, file2, block_size=16):\n",
    "    \"\"\"\n",
    "    Compara dos archivos y reporta únicamente los bloques que están corrompidos.\n",
    "    \"\"\"\n",
    "    with open(file1, \"rb\") as f:\n",
    "        data1 = f.read()\n",
    "    with open(file2, \"rb\") as f:\n",
    "        data2 = f.read()\n",
    "\n",
    "    corrupted_blocks = set()\n",
    "\n",
    "    # Comparar byte por byte y registrar bloques corrompidos\n",
    "    for i in range(min(len(data1), len(data2))):\n",
    "        if data1[i] != data2[i]:\n",
    "            block_index = i // block_size + 1\n",
    "            corrupted_blocks.add(block_index)\n",
    "\n",
    "    # Mostrar resultados\n",
    "    if corrupted_blocks:\n",
    "        sorted_blocks = sorted(corrupted_blocks)\n",
    "        print(f\"Bloques corrompidos: {sorted_blocks}\")\n",
    "        print(f\"Total de bloques afectados: {len(corrupted_blocks)}\")\n",
    "    else:\n",
    "        print(\"Los archivos son idénticos - no hay bloques corrompidos\")"
   ]
  },
  {
   "cell_type": "markdown",
   "metadata": {},
   "source": [
    "#### **Comparador de Archivos por Bytes**"
   ]
  },
  {
   "cell_type": "code",
   "execution_count": 5,
   "metadata": {},
   "outputs": [],
   "source": [
    "def compare_files_per_byte(file1, file2, block_size=16, max_diffs=64):\n",
    "    \"\"\"\n",
    "    Compara dos archivos byte por byte y muestra diferencias.\n",
    "    Agrupa por bloques para ver qué zonas se dañaron.\n",
    "    \"\"\"\n",
    "    with open(file1, \"rb\") as f:\n",
    "        data1 = f.read()\n",
    "    with open(file2, \"rb\") as f:\n",
    "        data2 = f.read()\n",
    "\n",
    "    for i, (b1, b2) in enumerate(zip(data1, data2)):\n",
    "        if b1 != b2:\n",
    "            block_index = i // block_size\n",
    "            print(f\"Diferencia en byte {i} (bloque {block_index}): {b1} != {b2}\")\n",
    "            max_diffs -= 1\n",
    "            if max_diffs == 0:\n",
    "                print(\"...más diferencias ocultas...\")\n",
    "                break"
   ]
  },
  {
   "cell_type": "markdown",
   "metadata": {},
   "source": [
    "### **Función Generadora de Llave**"
   ]
  },
  {
   "cell_type": "code",
   "execution_count": 24,
   "metadata": {},
   "outputs": [],
   "source": [
    "# Función para generar una clave a partir de una contraseña usando SHA256\n",
    "def getKey(password):\n",
    "    # Crear un objeto hash SHA256\n",
    "    hasher = SHA256.new(password.encode(\"utf-8\"))\n",
    "    # Devolver el resumen del hash (la clave)\n",
    "    return hasher.digest()"
   ]
  },
  {
   "cell_type": "markdown",
   "metadata": {},
   "source": [
    "## **Parte 1: Prueba Básica**\n",
    "\n",
    "1. Se elige el archivo `test.pdf` (mayor a 1 KB).\n",
    "2. Se cifra usando AES-CBC.\n",
    "3. Se descifra y se verifica que el archivo recuperado coincide con el original."
   ]
  },
  {
   "cell_type": "code",
   "execution_count": 23,
   "metadata": {},
   "outputs": [
    {
     "name": "stdout",
     "output_type": "stream",
     "text": [
      "Los archivos son idénticos - no hay bloques corrompidos\n"
     ]
    }
   ],
   "source": [
    "encrypt(\"CBC\", SHA256.new(b\"password\").digest(), \"test.pdf\")\n",
    "\n",
    "decrypt(\"CBC\", SHA256.new(b\"password\").digest(), \"test.pdf.enc\", \"Resultados/CBC - Basic Test/decrypted_test.pdf\")\n",
    "\n",
    "# Comparar archivos por bloques\n",
    "compare_files_per_block(\"test.pdf\", \"Resultados/CBC - Basic Test/decrypted_test.pdf\")\n",
    "\n",
    "# Comparar archivos por bytes\n",
    "compare_files_per_byte(\"test.pdf\", \"Resultados/CBC - Basic Test/decrypted_test.pdf\")\n"
   ]
  },
  {
   "cell_type": "markdown",
   "metadata": {},
   "source": [
    "Los resultados de la comparación muestran que el archivo original (`test.pdf`) y el archivo recuperado (`decrypted_test.pdf`) son idénticos. Esto confirma que el proceso de cifrado y descifrado con AES-CBC se realizó correctamente, preservando la integridad del archivo. Por lo tanto, se puede confiar en que el esquema implementado recupera el archivo original sin pérdida ni alteración de datos.\n",
    "\n",
    "## **Parte 2: Flipping de Bytes (CBC)**\n",
    "1. Se define la función `bit_flipper()`, la cual altera un bit dentro del tercer bloque de ciphertext.\n",
    "1. Se modifica el archivo cifrado *test.pdf.enc* con la función `bit_flipper()`.\n",
    "2. Se descifra el archivo modificado con la misma contraseña.\n",
    "3. Se comparan el archivo orginal con el archivo modificado descifrado."
   ]
  },
  {
   "cell_type": "code",
   "execution_count": 25,
   "metadata": {
    "ExecuteTime": {
     "end_time": "2025-09-17T05:33:00.375861Z",
     "start_time": "2025-09-17T05:33:00.370945Z"
    }
   },
   "outputs": [
    {
     "name": "stdout",
     "output_type": "stream",
     "text": [
      "Bloques corrompidos: [2, 3]\n",
      "Total de bloques afectados: 2\n"
     ]
    }
   ],
   "source": [
    "# Función para alterar un bit en el tercer bloque de ciphertext\n",
    "def bit_flipper(file_input, file_output):\n",
    "    with open(file_input, \"rb\") as f:\n",
    "        data = bytearray(f.read())\n",
    "        data[50] ^= 0x01\n",
    "\n",
    "    # cambia un bit dentro de C_3 ( ciphertext )\n",
    "    with open(file_output, \"wb\") as f:\n",
    "        f.write(data)\n",
    "\n",
    "\n",
    "# Clave para cifrado y descifrado\n",
    "key = SHA256.new(b\"password\").digest()\n",
    "\n",
    "# Cifrar el archivo original\n",
    "encrypt(\"CBC\", key, \"test.pdf\")\n",
    "\n",
    "# Flipping bytes\n",
    "bit_flipper(\"test.pdf.enc\", \"Resultados/CBC - Bit Flip/test_flipped.pdf.enc\")\n",
    "\n",
    "# Descifrar el archivo con el bit alterado\n",
    "decrypt(\"CBC\", key, \"Resultados/CBC - Bit Flip/test_flipped.pdf.enc\", \"Resultados/CBC - Bit Flip/decrypted_flipped_test.pdf\")\n",
    "\n",
    "# Comparar archivos por bloques\n",
    "compare_files_per_block(\"test.pdf\", \"Resultados/CBC - Bit Flip/decrypted_flipped_test.pdf\")\n",
    "\n",
    "\n"
   ]
  },
  {
   "cell_type": "markdown",
   "metadata": {},
   "source": [
    "Al realizar la prueba de flipping de bytes en el modo CBC, se alteró un bit dentro del tercer bloque del ciphertext. Tras descifrar el archivo modificado y comparar con el original, se observó que dos bloques resultaron corrompidos: el bloque alterado y el bloque anterior. Este resultado evidencia la propiedad de propagación de errores en CBC, donde una modificación en el ciphertext afecta no solo el bloque correspondiente, sino también el bloque previo al descifrar. Así, se demuestra la maleabilidad y el impacto de los cambios en la estructura de los bloques cifrados bajo este modo.\n",
    "\n",
    "### **¿Por qué se corrompen dos bloques consecutivos en CBC?**\n",
    "\n",
    "En el modo **Cipher Block Chaining (CBC)**, el descifrado de cada bloque se realiza con la fórmula:\n",
    "\n",
    "\\[\n",
    "P_i = D_{AES}(C_i) \\oplus C_{i-1}, \\quad i \\in \\{2, \\dots, n\\}\n",
    "\\]\n",
    "\n",
    "donde:  \n",
    "- \\(P_i\\): bloque de **plaintext** recuperado.  \n",
    "- \\(C_i\\): bloque de **ciphertext** recibido.  \n",
    "- \\(D_{AES}\\): función de descifrado del algoritmo AES.  \n",
    "- \\(C_{i-1}\\): bloque de **ciphertext** anterior.  \n",
    "\n",
    "---\n",
    "\n",
    "#### Caso de la alteración de un bit en \\(C_3\\):\n",
    "\n",
    "1. **Bloque \\(P_3\\):**  \n",
    "   - El descifrado depende directamente de \\(C_3\\).  \n",
    "   - Como se alteró un bit en \\(C_3\\), al aplicar \\(D_{AES}(C_3)\\) el resultado será un valor completamente distinto.  \n",
    "   - Por lo tanto, **todo el bloque \\(P_3\\) aparece corrompido**.  \n",
    "\n",
    "2. **Bloque \\(P_4\\):**  \n",
    "   - El descifrado de \\(P_4\\) se hace como:  \n",
    "     \\[\n",
    "     P_4 = D_{AES}(C_4) \\oplus C_3\n",
    "     \\]  \n",
    "   - Aunque \\(C_4\\) esté intacto, el valor de \\(C_3\\) ya está modificado.  \n",
    "   - Esto provoca que al hacer la operación XOR, **el bloque \\(P_4\\) también se corrompa**.  \n",
    "\n",
    "3. **Bloques posteriores (\\(P_5, P_6, \\dots\\)):**  \n",
    "   - Se descifran como:  \n",
    "     \\[\n",
    "     P_i = D_{AES}(C_i) \\oplus C_{i-1}\n",
    "     \\]  \n",
    "   - Aquí el \\(C_{i-1}\\) vuelve a ser válido (no alterado).  \n",
    "   - Por eso, **el error no se propaga más allá de un bloque adicional**.  \n",
    "\n",
    " ## **Parte 3: Intercambio de Bloques**\n",
    "\n",
    "1. Se define la función `swap_blocks()`, la cual intercambia dos bloques del archivo cifrado.\n",
    "2. Se cifra el archivo original.\n",
    "1. Se modifica el archivo cifrado *test.pdf.enc* con la función `swap_blocks()`.\n",
    "2. Se descifra el archivo modificado con la misma contraseña.\n",
    "3. Se comparan el archivo orginal con el archivo modificado descifrado."
   ]
  },
  {
   "cell_type": "code",
   "execution_count": 26,
   "metadata": {
    "ExecuteTime": {
     "end_time": "2025-09-17T05:33:00.425202Z",
     "start_time": "2025-09-17T05:33:00.421473Z"
    }
   },
   "outputs": [
    {
     "name": "stdout",
     "output_type": "stream",
     "text": [
      "Intercambiados C3 y C5 en test.pdf.enc, guardado en Resultados/CBC - Block Swap/test_swap.pdf.enc\n",
      "Diferencia en byte 16 (bloque 1): 32 != 89\n",
      "Diferencia en byte 17 (bloque 1): 48 != 118\n",
      "Diferencia en byte 18 (bloque 1): 32 != 147\n",
      "Diferencia en byte 19 (bloque 1): 111 != 210\n",
      "Diferencia en byte 20 (bloque 1): 98 != 22\n",
      "Diferencia en byte 21 (bloque 1): 106 != 3\n",
      "Diferencia en byte 22 (bloque 1): 10 != 216\n",
      "Diferencia en byte 23 (bloque 1): 60 != 240\n",
      "Diferencia en byte 24 (bloque 1): 60 != 203\n",
      "Diferencia en byte 25 (bloque 1): 10 != 48\n",
      "Diferencia en byte 26 (bloque 1): 47 != 184\n",
      "Diferencia en byte 27 (bloque 1): 76 != 161\n",
      "Diferencia en byte 28 (bloque 1): 101 != 125\n",
      "Diferencia en byte 29 (bloque 1): 110 != 16\n",
      "Diferencia en byte 30 (bloque 1): 103 != 183\n",
      "Diferencia en byte 31 (bloque 1): 116 != 129\n",
      "Diferencia en byte 32 (bloque 2): 104 != 215\n",
      "Diferencia en byte 33 (bloque 2): 32 != 179\n",
      "Diferencia en byte 34 (bloque 2): 49 != 58\n",
      "Diferencia en byte 35 (bloque 2): 48 != 36\n",
      "Diferencia en byte 36 (bloque 2): 49 != 170\n",
      "Diferencia en byte 37 (bloque 2): 51 != 5\n",
      "Diferencia en byte 38 (bloque 2): 32 != 67\n",
      "Diferencia en byte 39 (bloque 2): 32 != 127\n",
      "Diferencia en byte 40 (bloque 2): 32 != 82\n",
      "Diferencia en byte 41 (bloque 2): 32 != 150\n",
      "Diferencia en byte 42 (bloque 2): 32 != 114\n",
      "Diferencia en byte 43 (bloque 2): 32 != 60\n",
      "Diferencia en byte 44 (bloque 2): 10 != 153\n",
      "Diferencia en byte 45 (bloque 2): 47 != 89\n",
      "Diferencia en byte 46 (bloque 2): 70 != 87\n",
      "Diferencia en byte 47 (bloque 2): 105 != 227\n",
      "Diferencia en byte 48 (bloque 3): 108 != 21\n",
      "Diferencia en byte 49 (bloque 3): 116 != 50\n",
      "Diferencia en byte 50 (bloque 3): 101 != 214\n",
      "Diferencia en byte 51 (bloque 3): 114 != 207\n",
      "Diferencia en byte 52 (bloque 3): 32 != 84\n",
      "Diferencia en byte 53 (bloque 3): 47 != 70\n",
      "Diferencia en byte 54 (bloque 3): 70 != 148\n",
      "Diferencia en byte 55 (bloque 3): 108 != 160\n",
      "Diferencia en byte 56 (bloque 3): 97 != 150\n",
      "Diferencia en byte 57 (bloque 3): 116 != 78\n",
      "Diferencia en byte 58 (bloque 3): 101 != 242\n",
      "Diferencia en byte 59 (bloque 3): 68 != 169\n",
      "Diferencia en byte 60 (bloque 3): 101 != 125\n",
      "Diferencia en byte 61 (bloque 3): 99 != 29\n",
      "Diferencia en byte 62 (bloque 3): 111 != 191\n",
      "Diferencia en byte 63 (bloque 3): 100 != 145\n",
      "Diferencia en byte 64 (bloque 4): 101 != 218\n",
      "Diferencia en byte 65 (bloque 4): 10 != 153\n",
      "Diferencia en byte 66 (bloque 4): 62 != 53\n",
      "Diferencia en byte 67 (bloque 4): 62 != 42\n",
      "Diferencia en byte 68 (bloque 4): 10 != 145\n",
      "Diferencia en byte 69 (bloque 4): 115 != 69\n",
      "Diferencia en byte 70 (bloque 4): 116 != 23\n",
      "Diferencia en byte 71 (bloque 4): 114 != 45\n",
      "Diferencia en byte 72 (bloque 4): 101 != 23\n",
      "Diferencia en byte 73 (bloque 4): 97 != 215\n",
      "Diferencia en byte 74 (bloque 4): 109 != 63\n",
      "Diferencia en byte 75 (bloque 4): 10 != 22\n",
      "Diferencia en byte 76 (bloque 4): 120 != 235\n",
      "Diferencia en byte 77 (bloque 4): 218 != 172\n",
      "Diferencia en byte 78 (bloque 4): 189 != 172\n",
      "Diferencia en byte 79 (bloque 4): 87 != 221\n",
      "...más diferencias ocultas...\n",
      "=====================================================================================================================\n",
      "Bloques corrompidos: [2, 3, 4, 5]\n",
      "Total de bloques afectados: 4\n"
     ]
    }
   ],
   "source": [
    "# Función para intercambiar bloques en un archivo cifrado\n",
    "def swap_blocks(input_file, output_file, block_size=16, i=2, j=3):\n",
    "    \"\"\"\n",
    "    Intercambia los bloques Ci y Cj de un archivo cifrado en formato:\n",
    "    C0 || C1 || C2 ... Cn\n",
    "    block_size normalmente = 16 (AES).\n",
    "    \"\"\"\n",
    "\n",
    "    with open(input_file, \"rb\") as f:\n",
    "        data = bytearray(f.read())\n",
    "\n",
    "    # print(data)\n",
    "    # Calcular offset en bytes de cada bloque\n",
    "    start_i, end_i = i * block_size, (i + 1) * block_size\n",
    "    start_j, end_j = j * block_size, (j + 1) * block_size\n",
    "\n",
    "    # Intercambiar bloques\n",
    "    block_i = data[start_i:end_i]\n",
    "    block_j = data[start_j:end_j]\n",
    "    data[start_i:end_i], data[start_j:end_j] = block_j, block_i\n",
    "\n",
    "    with open(output_file, \"wb\") as f:\n",
    "        f.write(data)\n",
    "\n",
    "    print(f\"Intercambiados C{i} y C{j} en {input_file}, guardado en {output_file}\")\n",
    "\n",
    "# Encriptar archivo\n",
    "encrypt(\"CBC\", getKey(\"1234\"), \"test.pdf\")\n",
    "\n",
    "# Cambio de bloques\n",
    "swap_blocks(\"test.pdf.enc\", \"Resultados/CBC - Block Swap/test_swap.pdf.enc\", 16, 3, 5)\n",
    "\n",
    "# Descifrado del archivo modificado\n",
    "decrypt(\"CBC\", getKey(\"1234\"), \"Resultados/CBC - Block Swap/test_swap.pdf.enc\")\n",
    "\n",
    "# Comparación de Archivos\n",
    "compare_files_per_byte(\"test.pdf\", \"Resultados/CBC - Block Swap/test_swap.pdf\")\n",
    "print(\n",
    "    \"=====================================================================================================================\"\n",
    ")\n",
    "compare_files_per_block(\"test.pdf\", \"Resultados/CBC - Block Swap/test_swap.pdf\")"
   ]
  },
  {
   "cell_type": "markdown",
   "metadata": {},
   "source": [
    "## **Parte 3 bis: Implementación con ECB**\n",
    "### **Bit Flipping (ECB)**"
   ]
  },
  {
   "cell_type": "code",
   "execution_count": 27,
   "metadata": {
    "ExecuteTime": {
     "end_time": "2025-09-17T05:33:00.742282Z",
     "start_time": "2025-09-17T05:33:00.729820Z"
    }
   },
   "outputs": [
    {
     "name": "stdout",
     "output_type": "stream",
     "text": [
      "Diferencia en byte 32 (bloque 2): 104 != 168\n",
      "Diferencia en byte 33 (bloque 2): 32 != 103\n",
      "Diferencia en byte 34 (bloque 2): 49 != 8\n",
      "Diferencia en byte 35 (bloque 2): 48 != 55\n",
      "Diferencia en byte 36 (bloque 2): 49 != 143\n",
      "Diferencia en byte 37 (bloque 2): 51 != 0\n",
      "Diferencia en byte 38 (bloque 2): 32 != 112\n",
      "Diferencia en byte 39 (bloque 2): 32 != 5\n",
      "Diferencia en byte 40 (bloque 2): 32 != 90\n",
      "Diferencia en byte 41 (bloque 2): 32 != 95\n",
      "Diferencia en byte 42 (bloque 2): 32 != 30\n",
      "Diferencia en byte 43 (bloque 2): 32 != 235\n",
      "Diferencia en byte 44 (bloque 2): 10 != 188\n",
      "Diferencia en byte 45 (bloque 2): 47 != 154\n",
      "Diferencia en byte 46 (bloque 2): 70 != 114\n",
      "Diferencia en byte 47 (bloque 2): 105 != 100\n",
      "=====================================================================================================================\n",
      "Bloques corrompidos: [3]\n",
      "Total de bloques afectados: 1\n"
     ]
    }
   ],
   "source": [
    "encrypt(\"ECB\", getKey(\"1234\"), \"test.pdf\")\n",
    "bit_flipper(\"test.pdf.enc\", \"Resultados/ECB - Bit flip/test_flip.pdf.enc\")\n",
    "decrypt(\"ECB\", getKey(\"1234\"), \"Resultados/ECB - Bit flip/test_flip.pdf.enc\")\n",
    "\n",
    "compare_files_per_byte(\"test.pdf\", \"Resultados/ECB - Bit flip/test_flip.pdf\")\n",
    "print(\n",
    "    \"=====================================================================================================================\"\n",
    ")\n",
    "compare_files_per_block(\"test.pdf\", \"Resultados/ECB - Bit flip/test_flip.pdf\")"
   ]
  },
  {
   "cell_type": "markdown",
   "metadata": {},
   "source": [
    "### **Intercambio de Bloques (ECB)**"
   ]
  },
  {
   "cell_type": "code",
   "execution_count": 28,
   "metadata": {
    "ExecuteTime": {
     "end_time": "2025-09-17T05:33:00.788633Z",
     "start_time": "2025-09-17T05:33:00.775553Z"
    }
   },
   "outputs": [
    {
     "name": "stdout",
     "output_type": "stream",
     "text": [
      "Intercambiados C3 y C5 en test.pdf.enc, guardado en Resultados/ECB - Block Swap/test_swap.pdf.enc\n",
      "Diferencia en byte 32 (bloque 2): 104 != 101\n",
      "Diferencia en byte 33 (bloque 2): 32 != 10\n",
      "Diferencia en byte 34 (bloque 2): 49 != 62\n",
      "Diferencia en byte 35 (bloque 2): 48 != 62\n",
      "Diferencia en byte 36 (bloque 2): 49 != 10\n",
      "Diferencia en byte 37 (bloque 2): 51 != 115\n",
      "Diferencia en byte 38 (bloque 2): 32 != 116\n",
      "Diferencia en byte 39 (bloque 2): 32 != 114\n",
      "Diferencia en byte 40 (bloque 2): 32 != 101\n",
      "Diferencia en byte 41 (bloque 2): 32 != 97\n",
      "Diferencia en byte 42 (bloque 2): 32 != 109\n",
      "Diferencia en byte 43 (bloque 2): 32 != 10\n",
      "Diferencia en byte 44 (bloque 2): 10 != 120\n",
      "Diferencia en byte 45 (bloque 2): 47 != 218\n",
      "Diferencia en byte 46 (bloque 2): 70 != 189\n",
      "Diferencia en byte 47 (bloque 2): 105 != 87\n",
      "Diferencia en byte 64 (bloque 4): 101 != 104\n",
      "Diferencia en byte 65 (bloque 4): 10 != 32\n",
      "Diferencia en byte 66 (bloque 4): 62 != 49\n",
      "Diferencia en byte 67 (bloque 4): 62 != 48\n",
      "Diferencia en byte 68 (bloque 4): 10 != 49\n",
      "Diferencia en byte 69 (bloque 4): 115 != 51\n",
      "Diferencia en byte 70 (bloque 4): 116 != 32\n",
      "Diferencia en byte 71 (bloque 4): 114 != 32\n",
      "Diferencia en byte 72 (bloque 4): 101 != 32\n",
      "Diferencia en byte 73 (bloque 4): 97 != 32\n",
      "Diferencia en byte 74 (bloque 4): 109 != 32\n",
      "Diferencia en byte 75 (bloque 4): 10 != 32\n",
      "Diferencia en byte 76 (bloque 4): 120 != 10\n",
      "Diferencia en byte 77 (bloque 4): 218 != 47\n",
      "Diferencia en byte 78 (bloque 4): 189 != 70\n",
      "Diferencia en byte 79 (bloque 4): 87 != 105\n",
      "=====================================================================================================================\n",
      "Bloques corrompidos: [3, 5]\n",
      "Total de bloques afectados: 2\n"
     ]
    }
   ],
   "source": [
    "encrypt(\"ECB\", getKey(\"1234\"), \"test.pdf\")\n",
    "swap_blocks(\"test.pdf.enc\", \"Resultados/ECB - Block Swap/test_swap.pdf.enc\", 16, 3, 5)\n",
    "decrypt(\"ECB\", getKey(\"1234\"), \"Resultados/ECB - Block Swap/test_swap.pdf.enc\")\n",
    "compare_files_per_byte(\"test.pdf\", \"Resultados/ECB - Block Swap/test_swap.pdf\")\n",
    "print(\n",
    "    \"=====================================================================================================================\"\n",
    ")\n",
    "compare_files_per_block(\"test.pdf\", \"Resultados/ECB - Block Swap/test_swap.pdf\")"
   ]
  },
  {
   "cell_type": "markdown",
   "metadata": {},
   "source": [
    "## **Parte 4: Reflexión**\n",
    "**Confidencialidad:**  \n",
    "AES-CBC y AES-ECB protegen la confidencialidad del mensaje, ya que sin la clave correcta no es posible recuperar el contenido original. Sin embargo, AES-ECB presenta una debilidad importante: bloques idénticos de texto plano generan bloques idénticos de texto cifrado, lo que permite detectar patrones y puede revelar información sobre la estructura del mensaje. En cambio, AES-CBC utiliza un vector de inicialización (IV) y encadenamiento de bloques, lo que elimina estos patrones y mejora la confidencialidad.\n",
    "\n",
    "**Integridad:**  \n",
    "Ninguno de los modos de operación (CBC o ECB) garantiza la integridad del archivo por sí solo. Un atacante puede modificar el archivo cifrado (por ejemplo, alterando o intercambiando bloques) y, aunque el contenido descifrado será incorrecto, el sistema no detectará la manipulación. Para proteger la integridad, es necesario añadir un código de autenticación de mensaje (MAC) o emplear un modo autenticado como AES-GCM (AEAD), que detecta cualquier alteración en el ciphertext.\n",
    "\n",
    "**Maleabilidad y ataques:**  \n",
    "AES-CBC y AES-ECB son modos maleables: un atacante puede modificar el ciphertext y provocar cambios predecibles en el texto plano descifrado. En CBC, un bit flip en el ciphertext afecta el bloque correspondiente y el siguiente, lo que puede ser aprovechado para alterar partes específicas del archivo, como cabeceras o metadatos. En ECB, la maleabilidad es aún mayor, ya que los bloques pueden ser intercambiados o modificados de forma independiente, permitiendo manipular el mensaje sin restricciones. Esta maleabilidad representa un riesgo práctico en sistemas de almacenamiento de archivos cifrados, ya que un atacante podría modificar datos críticos sin ser detectado, comprometiendo la integridad y funcionalidad de los archivos. Por ello, es fundamental complementar el cifrado con mecanismos de autenticación."
   ]
  }
 ],
 "metadata": {
  "colab": {
   "provenance": []
  },
  "kernelspec": {
   "display_name": "Python 3",
   "language": "python",
   "name": "python3"
  },
  "language_info": {
   "codemirror_mode": {
    "name": "ipython",
    "version": 3
   },
   "file_extension": ".py",
   "mimetype": "text/x-python",
   "name": "python",
   "nbconvert_exporter": "python",
   "pygments_lexer": "ipython3",
   "version": "3.11.4"
  }
 },
 "nbformat": 4,
 "nbformat_minor": 0
}
